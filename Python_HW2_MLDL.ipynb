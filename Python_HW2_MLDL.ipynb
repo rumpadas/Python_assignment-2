{
 "cells": [
  {
   "cell_type": "code",
   "execution_count": 15,
   "id": "41cd1ebc-a823-4ac3-9f9a-c88e5feab745",
   "metadata": {},
   "outputs": [
    {
     "name": "stdout",
     "output_type": "stream",
     "text": [
      "*  \n",
      "* *  \n",
      "* * *  \n",
      "* * * *  \n",
      "* * * * *  \n",
      "* * * *  \n",
      "* * *  \n",
      "* *  \n",
      "*  \n",
      " \n"
     ]
    }
   ],
   "source": [
    "# Create the below pattern using nested for loop in Python.\n",
    "\n",
    "for i in range(5):\n",
    "    for j in range(i+1):\n",
    "        print('*', end=' ')\n",
    "    print(' ')\n",
    "for i in range(5):\n",
    "    for j in range(5-(i+1)):\n",
    "        print('*', end=' ')\n",
    "    print(' ')"
   ]
  },
  {
   "cell_type": "code",
   "execution_count": 16,
   "id": "27f9ad8d-110d-4746-8b82-474842a1c0a3",
   "metadata": {},
   "outputs": [
    {
     "name": "stdin",
     "output_type": "stream",
     "text": [
      "Enter your word of choice inueron\n"
     ]
    },
    {
     "name": "stdout",
     "output_type": "stream",
     "text": [
      "noreuni\n"
     ]
    }
   ],
   "source": [
    "# Write a Python program to reverse a word after accepting the input from the user.\n",
    "string=input('Enter your word of choice')\n",
    "reverse = string[::-1]\n",
    "print(reverse)"
   ]
  },
  {
   "cell_type": "code",
   "execution_count": null,
   "id": "5da68c49-1641-4248-b13a-8837d35ef24a",
   "metadata": {},
   "outputs": [],
   "source": []
  }
 ],
 "metadata": {
  "kernelspec": {
   "display_name": "Python 3",
   "language": "python",
   "name": "python3"
  },
  "language_info": {
   "codemirror_mode": {
    "name": "ipython",
    "version": 3
   },
   "file_extension": ".py",
   "mimetype": "text/x-python",
   "name": "python",
   "nbconvert_exporter": "python",
   "pygments_lexer": "ipython3",
   "version": "3.8.8"
  }
 },
 "nbformat": 4,
 "nbformat_minor": 5
}
